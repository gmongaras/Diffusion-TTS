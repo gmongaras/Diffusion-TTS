{
 "cells": [
  {
   "cell_type": "code",
   "execution_count": 1,
   "metadata": {},
   "outputs": [],
   "source": [
    "import torch\n",
    "import torchaudio\n",
    "import matplotlib.pyplot as plt\n",
    "import matplotlib"
   ]
  },
  {
   "cell_type": "code",
   "execution_count": 2,
   "metadata": {},
   "outputs": [],
   "source": [
    "import sys\n",
    "sys.path.append('../')\n",
    "from src.encodec.model import EncodecModel\n",
    "from src.encodec.modules.seanet import SEANetEncoder, SEANetDecoder\n",
    "from src.encodec.quantization.vq import ResidualVectorQuantizer"
   ]
  },
  {
   "cell_type": "code",
   "execution_count": 3,
   "metadata": {},
   "outputs": [],
   "source": [
    "# Let's say we have a batch of audio, each 10 seconds each\n",
    "batch = torch.randn(20, 1, 16000*10)"
   ]
  },
  {
   "cell_type": "code",
   "execution_count": 4,
   "metadata": {},
   "outputs": [],
   "source": [
    "# Create the model\n",
    "dim = 128\n",
    "encoder, decoder, vq = SEANetEncoder(dimension=dim), SEANetDecoder(dimension=dim), ResidualVectorQuantizer(dim)\n",
    "Model = EncodecModel(\n",
    "    encoder=encoder,\n",
    "    decoder=decoder,\n",
    "    quantizer=vq,\n",
    "    target_bandwidths=[6.0, 8.0, 10.0, 12.0, 14.0, 16.0],\n",
    "    sample_rate=16000,\n",
    "    channels=1\n",
    ")"
   ]
  },
  {
   "cell_type": "code",
   "execution_count": 5,
   "metadata": {},
   "outputs": [],
   "source": [
    "# Put batch and model on GPU\n",
    "batch = batch.cuda()\n",
    "Model = Model.cuda()"
   ]
  },
  {
   "cell_type": "code",
   "execution_count": 6,
   "metadata": {},
   "outputs": [
    {
     "data": {
      "text/plain": [
       "tensor([[[-0.0789, -0.0704, -0.0792,  ..., -0.0790, -0.0896, -0.0600]],\n",
       "\n",
       "        [[-0.0789, -0.0704, -0.0792,  ..., -0.0790, -0.0896, -0.0600]],\n",
       "\n",
       "        [[-0.0789, -0.0704, -0.0792,  ..., -0.0790, -0.0896, -0.0600]],\n",
       "\n",
       "        ...,\n",
       "\n",
       "        [[-0.0789, -0.0704, -0.0792,  ..., -0.0790, -0.0896, -0.0600]],\n",
       "\n",
       "        [[-0.0789, -0.0704, -0.0792,  ..., -0.0790, -0.0896, -0.0600]],\n",
       "\n",
       "        [[-0.0789, -0.0704, -0.0792,  ..., -0.0790, -0.0896, -0.0600]]],\n",
       "       device='cuda:0', grad_fn=<SliceBackward0>)"
      ]
     },
     "execution_count": 6,
     "metadata": {},
     "output_type": "execute_result"
    }
   ],
   "source": [
    "Model(batch)"
   ]
  },
  {
   "cell_type": "code",
   "execution_count": 7,
   "metadata": {},
   "outputs": [],
   "source": [
    "# Adam optimizer\n",
    "optimizer = torch.optim.Adam(Model.parameters(), lr=1e-4)"
   ]
  },
  {
   "cell_type": "code",
   "execution_count": 8,
   "metadata": {},
   "outputs": [],
   "source": [
    "# Do a single pass and loss step to see gpu memory usage\n",
    "optimizer.zero_grad()\n",
    "loss = Model(batch).mean()\n",
    "loss.backward()\n",
    "optimizer.step()"
   ]
  },
  {
   "cell_type": "code",
   "execution_count": 10,
   "metadata": {},
   "outputs": [
    {
     "name": "stdout",
     "output_type": "stream",
     "text": [
      "9.257893376 GB\n"
     ]
    }
   ],
   "source": [
    "# Get memory usage\n",
    "print(f\"{torch.cuda.memory_allocated() / 1e9} GB\")"
   ]
  }
 ],
 "metadata": {
  "kernelspec": {
   "display_name": "base",
   "language": "python",
   "name": "python3"
  },
  "language_info": {
   "codemirror_mode": {
    "name": "ipython",
    "version": 3
   },
   "file_extension": ".py",
   "mimetype": "text/x-python",
   "name": "python",
   "nbconvert_exporter": "python",
   "pygments_lexer": "ipython3",
   "version": "3.10.11"
  },
  "orig_nbformat": 4
 },
 "nbformat": 4,
 "nbformat_minor": 2
}
